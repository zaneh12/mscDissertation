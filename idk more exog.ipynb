{
 "cells": [
  {
   "cell_type": "markdown",
   "id": "f291109a",
   "metadata": {},
   "source": [
    "# Implementing LLOY GARCH WITH EXOGENOUS MEAN"
   ]
  },
  {
   "cell_type": "code",
   "execution_count": 26,
   "id": "1e42613d",
   "metadata": {},
   "outputs": [],
   "source": [
    "### Imports and Settings \n",
    "import datetime as dt\n",
    "import sys\n",
    "import numpy as np\n",
    "from numpy import cumsum, log, polyfit, sqrt, std, subtract\n",
    "from numpy.random import randn\n",
    "import pandas as pd\n",
    "from pandas_datareader import data as web\n",
    "import seaborn as sns\n",
    "from pylab import rcParams \n",
    "import matplotlib.pyplot as plt\n",
    "import matplotlib.cm as cm\n",
    "from arch import arch_model\n",
    "from numpy.linalg import LinAlgError\n",
    "from scipy import stats\n",
    "import statsmodels.api as sm\n",
    "import statsmodels.tsa.api as tsa\n",
    "from statsmodels.graphics.tsaplots import plot_acf, plot_pacf\n",
    "from statsmodels.tsa.stattools import acf, q_stat, adfuller\n",
    "from sklearn.metrics import mean_squared_error\n",
    "from scipy.stats import probplot, moment\n",
    "from arch import arch_model\n",
    "from arch.univariate import ARX, ARCH, GARCH, ZeroMean, arch_model\n",
    "from sklearn.model_selection import TimeSeriesSplit\n",
    "import warnings"
   ]
  },
  {
   "cell_type": "code",
   "execution_count": 2,
   "id": "1b58a22b",
   "metadata": {},
   "outputs": [
    {
     "data": {
      "text/html": [
       "<div>\n",
       "<style scoped>\n",
       "    .dataframe tbody tr th:only-of-type {\n",
       "        vertical-align: middle;\n",
       "    }\n",
       "\n",
       "    .dataframe tbody tr th {\n",
       "        vertical-align: top;\n",
       "    }\n",
       "\n",
       "    .dataframe thead th {\n",
       "        text-align: right;\n",
       "    }\n",
       "</style>\n",
       "<table border=\"1\" class=\"dataframe\">\n",
       "  <thead>\n",
       "    <tr style=\"text-align: right;\">\n",
       "      <th></th>\n",
       "      <th>shortProb</th>\n",
       "    </tr>\n",
       "    <tr>\n",
       "      <th>Date</th>\n",
       "      <th></th>\n",
       "    </tr>\n",
       "  </thead>\n",
       "  <tbody>\n",
       "    <tr>\n",
       "      <th>2020-01-02</th>\n",
       "      <td>0.025995</td>\n",
       "    </tr>\n",
       "    <tr>\n",
       "      <th>2020-01-03</th>\n",
       "      <td>0.022662</td>\n",
       "    </tr>\n",
       "    <tr>\n",
       "      <th>2020-01-06</th>\n",
       "      <td>0.013997</td>\n",
       "    </tr>\n",
       "    <tr>\n",
       "      <th>2020-01-07</th>\n",
       "      <td>0.003999</td>\n",
       "    </tr>\n",
       "    <tr>\n",
       "      <th>2020-01-08</th>\n",
       "      <td>0.002200</td>\n",
       "    </tr>\n",
       "  </tbody>\n",
       "</table>\n",
       "</div>"
      ],
      "text/plain": [
       "            shortProb\n",
       "Date                 \n",
       "2020-01-02   0.025995\n",
       "2020-01-03   0.022662\n",
       "2020-01-06   0.013997\n",
       "2020-01-07   0.003999\n",
       "2020-01-08   0.002200"
      ]
     },
     "execution_count": 2,
     "metadata": {},
     "output_type": "execute_result"
    }
   ],
   "source": [
    "Irithmics = pd.read_csv('agg.csv')\n",
    "Irithmics = Irithmics[['Date', 'shortProb']]\n",
    "Irithmics['Date'] = pd.to_datetime(Irithmics['Date'])\n",
    "Irithmics =Irithmics.set_index('Date')"
   ]
  },
  {
   "cell_type": "code",
   "execution_count": 3,
   "id": "c0f58425",
   "metadata": {},
   "outputs": [],
   "source": [
    "start = pd.Timestamp('2017-01-01')\n",
    "end = pd.Timestamp('2020-12-31')\n",
    "priceData = web.DataReader('LLOY.L', 'yahoo', start, end)\\\n",
    "      [['Close']]\n",
    "priceData['logReturn'] = np.log(priceData['Close']).diff().mul(100)\n",
    "priceData = priceData.dropna()"
   ]
  },
  {
   "cell_type": "code",
   "execution_count": 23,
   "id": "05ed1097",
   "metadata": {},
   "outputs": [
    {
     "name": "stdout",
     "output_type": "stream",
     "text": [
      "                           AR - ARCH Model Results                            \n",
      "==============================================================================\n",
      "Dep. Variable:              shortProb   R-squared:                       0.000\n",
      "Mean Model:                        AR   Adj. R-squared:                  0.000\n",
      "Vol Model:                       ARCH   Log-Likelihood:               -251.129\n",
      "Distribution:                  Normal   AIC:                           508.258\n",
      "Method:            Maximum Likelihood   BIC:                           518.858\n",
      "                                        No. Observations:                  253\n",
      "Date:                Mon, Jun 27 2022   Df Residuals:                      252\n",
      "Time:                        21:15:55   Df Model:                            1\n",
      "                               Mean Model                               \n",
      "========================================================================\n",
      "                 coef    std err          t      P>|t|  95.0% Conf. Int.\n",
      "------------------------------------------------------------------------\n",
      "Const          0.8266  6.268e-02     13.187  1.036e-39 [  0.704,  0.949]\n",
      "                             Volatility Model                             \n",
      "==========================================================================\n",
      "                 coef    std err          t      P>|t|    95.0% Conf. Int.\n",
      "--------------------------------------------------------------------------\n",
      "omega          0.0780  2.256e-02      3.456  5.486e-04 [3.375e-02,  0.122]\n",
      "alpha[1]       1.0000      0.117      8.531  1.445e-17   [  0.770,  1.230]\n",
      "==========================================================================\n",
      "\n",
      "Covariance estimator: robust\n"
     ]
    },
    {
     "data": {
      "text/plain": [
       "508.2576470938907"
      ]
     },
     "execution_count": 23,
     "metadata": {},
     "output_type": "execute_result"
    }
   ],
   "source": [
    "mod = arch_model(Irithmics['shortProb']*100, mean=\"ARX\", p = 1, q = 0)\n",
    "res = mod.fit(disp=\"off\")\n",
    "print(res.summary())\n",
    "res.aic\n",
    "\n"
   ]
  },
  {
   "cell_type": "code",
   "execution_count": 24,
   "id": "0355bb69",
   "metadata": {},
   "outputs": [
    {
     "name": "stdout",
     "output_type": "stream",
     "text": [
      "                     AR - Constant Variance Model Results                     \n",
      "==============================================================================\n",
      "Dep. Variable:              shortProb   R-squared:                       0.000\n",
      "Mean Model:                        AR   Adj. R-squared:                  0.000\n",
      "Vol Model:          Constant Variance   Log-Likelihood:               -352.995\n",
      "Distribution:                  Normal   AIC:                           709.990\n",
      "Method:            Maximum Likelihood   BIC:                           717.057\n",
      "                                        No. Observations:                  253\n",
      "Date:                Mon, Jun 27 2022   Df Residuals:                      252\n",
      "Time:                        21:17:51   Df Model:                            1\n",
      "                               Mean Model                               \n",
      "========================================================================\n",
      "                 coef    std err          t      P>|t|  95.0% Conf. Int.\n",
      "------------------------------------------------------------------------\n",
      "Const          1.3450  6.140e-02     21.907 2.238e-106 [  1.225,  1.465]\n",
      "                            Volatility Model                            \n",
      "========================================================================\n",
      "                 coef    std err          t      P>|t|  95.0% Conf. Int.\n",
      "------------------------------------------------------------------------\n",
      "sigma2         0.9537      0.129      7.378  1.611e-13 [  0.700,  1.207]\n",
      "========================================================================\n",
      "\n",
      "Covariance estimator: White's Heteroskedasticity Consistent Estimator\n"
     ]
    }
   ],
   "source": [
    "ar = ARX(Irithmics['shortProb']*100)\n",
    "print(ar.fit().summary())"
   ]
  },
  {
   "cell_type": "code",
   "execution_count": 31,
   "id": "8f80edc8",
   "metadata": {},
   "outputs": [
    {
     "name": "stdout",
     "output_type": "stream",
     "text": [
      "                           AR - ARCH Model Results                            \n",
      "==============================================================================\n",
      "Dep. Variable:              shortProb   R-squared:                       0.000\n",
      "Mean Model:                        AR   Adj. R-squared:                  0.000\n",
      "Vol Model:                       ARCH   Log-Likelihood:               -251.129\n",
      "Distribution:                  Normal   AIC:                           508.258\n",
      "Method:            Maximum Likelihood   BIC:                           518.858\n",
      "                                        No. Observations:                  253\n",
      "Date:                Mon, Jun 27 2022   Df Residuals:                      252\n",
      "Time:                        21:18:47   Df Model:                            1\n",
      "                               Mean Model                               \n",
      "========================================================================\n",
      "                 coef    std err          t      P>|t|  95.0% Conf. Int.\n",
      "------------------------------------------------------------------------\n",
      "Const          0.8266  6.268e-02     13.188  1.035e-39 [  0.704,  0.949]\n",
      "                             Volatility Model                             \n",
      "==========================================================================\n",
      "                 coef    std err          t      P>|t|    95.0% Conf. Int.\n",
      "--------------------------------------------------------------------------\n",
      "omega          0.0780  2.256e-02      3.456  5.486e-04 [3.375e-02,  0.122]\n",
      "alpha[1]       1.0000      0.117      8.531  1.445e-17   [  0.770,  1.230]\n",
      "==========================================================================\n",
      "\n",
      "Covariance estimator: robust\n"
     ]
    }
   ],
   "source": [
    "ar.volatility = ARCH(p=1)\n",
    "res = ar.fit(update_freq=0, disp=\"off\")\n",
    "print(res.summary())"
   ]
  },
  {
   "cell_type": "code",
   "execution_count": 34,
   "id": "ff0a4674",
   "metadata": {},
   "outputs": [
    {
     "data": {
      "image/png": "[encoded data removed]",
      "text/plain": [
       "<Figure size 432x288 with 2 Axes>"
      ]
     },
     "metadata": {
      "needs_background": "light"
     },
     "output_type": "display_data"
    }
   ],
   "source": [
    "fig = res.plot()"
   ]
  }
 ],
 "metadata": {
  "kernelspec": {
   "display_name": "Python 3 (ipykernel)",
   "language": "python",
   "name": "python3"
  },
  "language_info": {
   "codemirror_mode": {
    "name": "ipython",
    "version": 3
   },
   "file_extension": ".py",
   "mimetype": "text/x-python",
   "name": "python",
   "nbconvert_exporter": "python",
   "pygments_lexer": "ipython3",
   "version": "3.10.5"
  }
 },
 "nbformat": 4,
 "nbformat_minor": 5
}
