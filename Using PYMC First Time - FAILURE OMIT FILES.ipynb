{
 "cells": [
  {
   "cell_type": "markdown",
   "id": "07dbf518",
   "metadata": {},
   "source": [
    "# Code Found on Stack Overflow for Implementing GARCH in pymc3"
   ]
  },
  {
   "cell_type": "code",
   "execution_count": 10,
   "id": "e4624e08",
   "metadata": {},
   "outputs": [
    {
     "name": "stderr",
     "output_type": "stream",
     "text": [
      "WARNING (aesara.configdefaults): g++ not available, if using conda: `conda install m2w64-toolchain`\n",
      "WARNING (aesara.configdefaults): g++ not detected!  Aesara will be unable to compile C-implementations and will default to Python. Performance may be severely degraded. To remove this warning, set Aesara flags cxx to an empty string.\n",
      "WARNING (aesara.tensor.blas): Using NumPy C-API based implementation for BLAS functions.\n"
     ]
    }
   ],
   "source": []
  },
  {
   "cell_type": "code",
   "execution_count": 3,
   "id": "3373fc27",
   "metadata": {},
   "outputs": [],
   "source": [
    "### Imports and Settings \n",
    "import datetime as dt\n",
    "import sys\n",
    "import numpy as np\n",
    "from numpy import cumsum, log, polyfit, sqrt, std, subtract\n",
    "from numpy.random import randn\n",
    "import pandas as pd\n",
    "from pandas_datareader import data as web\n",
    "import seaborn as sns\n",
    "from pylab import rcParams \n",
    "import matplotlib.pyplot as plt\n",
    "import matplotlib.cm as cm\n",
    "from arch import arch_model\n",
    "from numpy.linalg import LinAlgError\n",
    "from scipy import stats\n",
    "import statsmodels.api as sm\n",
    "import statsmodels.tsa.api as tsa\n",
    "from statsmodels.graphics.tsaplots import plot_acf, plot_pacf\n",
    "from statsmodels.tsa.stattools import acf, q_stat, adfuller\n",
    "from sklearn.metrics import mean_squared_error\n",
    "from scipy.stats import probplot, moment\n",
    "from arch import arch_model\n",
    "from arch.univariate import ConstantMean, GARCH, Normal\n",
    "from sklearn.model_selection import TimeSeriesSplit\n",
    "import warnings"
   ]
  },
  {
   "cell_type": "code",
   "execution_count": 7,
   "id": "46212b4a",
   "metadata": {},
   "outputs": [],
   "source": [
    "start = pd.Timestamp('2017-01-01')\n",
    "end = pd.Timestamp('2020-12-31')\n",
    "priceData = web.DataReader('LLOY.L', 'yahoo', start, end)\\\n",
    "      [['Close']]\n",
    "priceData['pctReturn'] = 100*(priceData['Close'].pct_change())\n",
    "priceData['logReturn'] = np.log(priceData['Close']).diff().mul(100)\n",
    "priceData = priceData.dropna()"
   ]
  },
  {
   "cell_type": "code",
   "execution_count": 19,
   "id": "18d5883f",
   "metadata": {},
   "outputs": [
    {
     "name": "stderr",
     "output_type": "stream",
     "text": [
      "C:\\Users\\zaneh\\AppData\\Local\\Programs\\Python\\Python310\\lib\\site-packages\\deprecat\\classic.py:215: FutureWarning: In v4.0, pm.sample will return an `arviz.InferenceData` object instead of a `MultiTrace` by default. You can pass return_inferencedata=True or return_inferencedata=False to be safe and silence this warning.\n",
      "  return wrapped_(*args_, **kwargs_)\n",
      "C:\\Users\\zaneh\\AppData\\Local\\Programs\\Python\\Python310\\lib\\site-packages\\theano\\tensor\\elemwise.py:826: RuntimeWarning: divide by zero encountered in log\n",
      "  variables = ufunc(*ufunc_args, **ufunc_kwargs)\n",
      "C:\\Users\\zaneh\\AppData\\Local\\Programs\\Python\\Python310\\lib\\site-packages\\theano\\tensor\\elemwise.py:826: RuntimeWarning: invalid value encountered in multiply\n",
      "  variables = ufunc(*ufunc_args, **ufunc_kwargs)\n",
      "C:\\Users\\zaneh\\AppData\\Local\\Programs\\Python\\Python310\\lib\\site-packages\\theano\\tensor\\elemwise.py:826: RuntimeWarning: invalid value encountered in log\n",
      "  variables = ufunc(*ufunc_args, **ufunc_kwargs)\n",
      "Multiprocess sampling (4 chains in 4 jobs)\n",
      "NUTS: [mu, beta1, alpha1]\n"
     ]
    },
    {
     "data": {
      "text/html": [
       "\n",
       "<style>\n",
       "    /* Turns off some styling */\n",
       "    progress {\n",
       "        /* gets rid of default border in Firefox and Opera. */\n",
       "        border: none;\n",
       "        /* Needs to be in here for Safari polyfill so background images work as expected. */\n",
       "        background-size: auto;\n",
       "    }\n",
       "    .progress-bar-interrupted, .progress-bar-interrupted::-webkit-progress-bar {\n",
       "        background: #F44336;\n",
       "    }\n",
       "</style>\n"
      ],
      "text/plain": [
       "<IPython.core.display.HTML object>"
      ]
     },
     "metadata": {},
     "output_type": "display_data"
    },
    {
     "data": {
      "text/html": [
       "\n",
       "    <div>\n",
       "      <progress value='187' class='' max='8000' style='width:300px; height:20px; vertical-align: middle;'></progress>\n",
       "      2.34% [187/8000 00:17<11:53 Sampling 4 chains, 0 divergences]\n",
       "    </div>\n",
       "    "
      ],
      "text/plain": [
       "<IPython.core.display.HTML object>"
      ]
     },
     "metadata": {},
     "output_type": "display_data"
    },
    {
     "name": "stderr",
     "output_type": "stream",
     "text": [
      "\n",
      "KeyboardInterrupt\n",
      "\n"
     ]
    }
   ],
   "source": [
    "from pymc3 import Normal, sample, Model, Bound, summary\n",
    "import theano.tensor as tt\n",
    "import numpy as np\n",
    "\n",
    "\"\"\"\n",
    "Example from STAN - slightly altered\n",
    "// GARCH(1,1)\n",
    "data {\n",
    "  int<lower=0> T;\n",
    "  real r[T];\n",
    "  real<lower=0> sigma1;\n",
    "}\n",
    "parameters {\n",
    "  real mu;\n",
    "  real<lower=0> alpha0;\n",
    "  real<lower=0,upper=1> alpha1;\n",
    "  real<lower=0, upper=(1-alpha1)> beta1;\n",
    "}\n",
    "transformed parameters {\n",
    "  real<lower=0> sigma[T];\n",
    "  sigma[1] <- sigma1;\n",
    "  for (t in 2:T)\n",
    "    sigma[t] <- sqrt(alpha0\n",
    "                     + alpha1 * pow(r[t-1] - mu, 2)\n",
    "                     + beta1 * pow(sigma[t-1], 2));\n",
    "}\n",
    "model {\n",
    "  r ~ normal(mu,sigma);\n",
    "}\n",
    "\"\"\"\n",
    "\n",
    "\n",
    "def get_garch_model():\n",
    "    r = np.array([28, 8, -3, 7, -1, 1, 18, 12])\n",
    "    sigma1 = np.array([15])\n",
    "    alpha0 = np.array([10])\n",
    "    shape = r.shape\n",
    "\n",
    "    with Model() as garch:\n",
    "        alpha1 = Normal('alpha1', mu=0., sd=1., shape=shape)\n",
    "        BoundedNormal = Bound(Normal, upper=(1 - alpha1))\n",
    "        beta1 = BoundedNormal('beta1', mu=0., sd=1e6, shape=shape)\n",
    "        mu = Normal('mu', mu=0., sd=1e6, shape=shape)\n",
    "        theta = tt.sqrt(alpha0 + alpha1 * tt.pow(r - mu, 2) +\n",
    "                        beta1 * tt.pow(sigma1, 2))\n",
    "        Normal('obs', mu, sd=theta, observed=r)\n",
    "    return garch\n",
    "\n",
    "\n",
    "def run(n=1000):\n",
    "    if n == \"short\":\n",
    "        n = 50\n",
    "    with get_garch_model():\n",
    "        tr = sample(n, init=None)\n",
    "    return tr\n",
    "\n",
    "\n",
    "if __name__ == '__main__':\n",
    "    summary(run())"
   ]
  }
 ],
 "metadata": {
  "kernelspec": {
   "display_name": "Python 3 (ipykernel)",
   "language": "python",
   "name": "python3"
  },
  "language_info": {
   "codemirror_mode": {
    "name": "ipython",
    "version": 3
   },
   "file_extension": ".py",
   "mimetype": "text/x-python",
   "name": "python",
   "nbconvert_exporter": "python",
   "pygments_lexer": "ipython3",
   "version": "3.10.5"
  }
 },
 "nbformat": 4,
 "nbformat_minor": 5
}
